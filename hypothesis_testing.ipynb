{
 "cells": [
  {
   "cell_type": "markdown",
   "metadata": {},
   "source": [
    "## Проверка гипотез"
   ]
  },
  {
   "cell_type": "markdown",
   "metadata": {},
   "source": [
    "*Подключаем нужные библиотеки*"
   ]
  },
  {
   "cell_type": "code",
   "execution_count": 5,
   "metadata": {},
   "outputs": [],
   "source": [
    "import numpy as np\n",
    "import pandas as pd\n",
    "import scipy.stats as sts"
   ]
  },
  {
   "cell_type": "code",
   "execution_count": 6,
   "metadata": {},
   "outputs": [
    {
     "data": {
      "text/html": [
       "<div>\n",
       "<style scoped>\n",
       "    .dataframe tbody tr th:only-of-type {\n",
       "        vertical-align: middle;\n",
       "    }\n",
       "\n",
       "    .dataframe tbody tr th {\n",
       "        vertical-align: top;\n",
       "    }\n",
       "\n",
       "    .dataframe thead th {\n",
       "        text-align: right;\n",
       "    }\n",
       "</style>\n",
       "<table border=\"1\" class=\"dataframe\">\n",
       "  <thead>\n",
       "    <tr style=\"text-align: right;\">\n",
       "      <th></th>\n",
       "      <th>model auto</th>\n",
       "      <th>year of production</th>\n",
       "      <th>mileage</th>\n",
       "      <th>exterior colour</th>\n",
       "      <th>tax</th>\n",
       "      <th>transmission</th>\n",
       "      <th>wheel drive</th>\n",
       "      <th>number of owners</th>\n",
       "      <th>engine volume</th>\n",
       "      <th>engine power</th>\n",
       "      <th>...</th>\n",
       "      <th>acceleration</th>\n",
       "      <th>MPG</th>\n",
       "      <th>country of the car brand</th>\n",
       "      <th>class</th>\n",
       "      <th>top speed</th>\n",
       "      <th>environmental class</th>\n",
       "      <th>price</th>\n",
       "      <th>fuel utilization efficiency</th>\n",
       "      <th>engine optimality</th>\n",
       "      <th>intensity of use</th>\n",
       "    </tr>\n",
       "  </thead>\n",
       "  <tbody>\n",
       "    <tr>\n",
       "      <th>0</th>\n",
       "      <td>Mercedes-Benz</td>\n",
       "      <td>2019</td>\n",
       "      <td>98500.0</td>\n",
       "      <td>чёрный</td>\n",
       "      <td>55050.0</td>\n",
       "      <td>автоматическая</td>\n",
       "      <td>полный</td>\n",
       "      <td>1 владелец</td>\n",
       "      <td>3.0</td>\n",
       "      <td>367.0</td>\n",
       "      <td>...</td>\n",
       "      <td>6.2</td>\n",
       "      <td>9.4</td>\n",
       "      <td>Германия</td>\n",
       "      <td>F</td>\n",
       "      <td>246.0</td>\n",
       "      <td>Euro 6</td>\n",
       "      <td>9299000.0</td>\n",
       "      <td>3.133333</td>\n",
       "      <td>6826.20</td>\n",
       "      <td>16416.666667</td>\n",
       "    </tr>\n",
       "    <tr>\n",
       "      <th>1</th>\n",
       "      <td>Mercedes-Benz</td>\n",
       "      <td>2018</td>\n",
       "      <td>51400.0</td>\n",
       "      <td>чёрный</td>\n",
       "      <td>4760.0</td>\n",
       "      <td>автоматическая</td>\n",
       "      <td>задний</td>\n",
       "      <td>2 владельца</td>\n",
       "      <td>2.1</td>\n",
       "      <td>136.0</td>\n",
       "      <td>...</td>\n",
       "      <td>12.8</td>\n",
       "      <td>5.8</td>\n",
       "      <td>Германия</td>\n",
       "      <td>M</td>\n",
       "      <td>181.0</td>\n",
       "      <td>Euro 5</td>\n",
       "      <td>12800000.0</td>\n",
       "      <td>2.761905</td>\n",
       "      <td>3655.68</td>\n",
       "      <td>7342.857143</td>\n",
       "    </tr>\n",
       "    <tr>\n",
       "      <th>2</th>\n",
       "      <td>Mercedes-Benz</td>\n",
       "      <td>2020</td>\n",
       "      <td>23500.0</td>\n",
       "      <td>чёрный</td>\n",
       "      <td>18675.0</td>\n",
       "      <td>автоматическая</td>\n",
       "      <td>полный</td>\n",
       "      <td>1 владелец</td>\n",
       "      <td>2.9</td>\n",
       "      <td>249.0</td>\n",
       "      <td>...</td>\n",
       "      <td>7.4</td>\n",
       "      <td>9.8</td>\n",
       "      <td>Германия</td>\n",
       "      <td>J</td>\n",
       "      <td>199.0</td>\n",
       "      <td>Euro 6</td>\n",
       "      <td>17499000.0</td>\n",
       "      <td>3.379310</td>\n",
       "      <td>5343.54</td>\n",
       "      <td>4700.000000</td>\n",
       "    </tr>\n",
       "    <tr>\n",
       "      <th>3</th>\n",
       "      <td>BMW</td>\n",
       "      <td>2021</td>\n",
       "      <td>50300.0</td>\n",
       "      <td>чёрный</td>\n",
       "      <td>51000.0</td>\n",
       "      <td>автоматическая</td>\n",
       "      <td>полный</td>\n",
       "      <td>2 владельца</td>\n",
       "      <td>3.0</td>\n",
       "      <td>340.0</td>\n",
       "      <td>...</td>\n",
       "      <td>5.5</td>\n",
       "      <td>8.6</td>\n",
       "      <td>Германия</td>\n",
       "      <td>E</td>\n",
       "      <td>250.0</td>\n",
       "      <td>Euro 6</td>\n",
       "      <td>9990000.0</td>\n",
       "      <td>2.866667</td>\n",
       "      <td>5610.00</td>\n",
       "      <td>12575.000000</td>\n",
       "    </tr>\n",
       "    <tr>\n",
       "      <th>4</th>\n",
       "      <td>BMW</td>\n",
       "      <td>2022</td>\n",
       "      <td>6152.0</td>\n",
       "      <td>серый</td>\n",
       "      <td>51000.0</td>\n",
       "      <td>автоматическая</td>\n",
       "      <td>полный</td>\n",
       "      <td>1 владелец</td>\n",
       "      <td>3.0</td>\n",
       "      <td>340.0</td>\n",
       "      <td>...</td>\n",
       "      <td>4.6</td>\n",
       "      <td>5.1</td>\n",
       "      <td>Германия</td>\n",
       "      <td>E</td>\n",
       "      <td>250.0</td>\n",
       "      <td>Euro 6</td>\n",
       "      <td>9900000.0</td>\n",
       "      <td>1.700000</td>\n",
       "      <td>4692.00</td>\n",
       "      <td>2050.666667</td>\n",
       "    </tr>\n",
       "  </tbody>\n",
       "</table>\n",
       "<p>5 rows × 22 columns</p>\n",
       "</div>"
      ],
      "text/plain": [
       "      model auto  year of production  mileage exterior colour      tax  \\\n",
       "0  Mercedes-Benz                2019  98500.0          чёрный  55050.0   \n",
       "1  Mercedes-Benz                2018  51400.0          чёрный   4760.0   \n",
       "2  Mercedes-Benz                2020  23500.0          чёрный  18675.0   \n",
       "3            BMW                2021  50300.0          чёрный  51000.0   \n",
       "4            BMW                2022   6152.0           серый  51000.0   \n",
       "\n",
       "     transmission wheel drive number of owners  engine volume  engine power  \\\n",
       "0  автоматическая      полный       1 владелец            3.0         367.0   \n",
       "1  автоматическая      задний      2 владельца            2.1         136.0   \n",
       "2  автоматическая      полный       1 владелец            2.9         249.0   \n",
       "3  автоматическая      полный      2 владельца            3.0         340.0   \n",
       "4  автоматическая      полный       1 владелец            3.0         340.0   \n",
       "\n",
       "   ... acceleration  MPG  country of the car brand  class top speed  \\\n",
       "0  ...          6.2  9.4                 Германия      F      246.0   \n",
       "1  ...         12.8  5.8                 Германия      M      181.0   \n",
       "2  ...          7.4  9.8                 Германия      J      199.0   \n",
       "3  ...          5.5  8.6                 Германия      E      250.0   \n",
       "4  ...          4.6  5.1                 Германия      E      250.0   \n",
       "\n",
       "  environmental class       price fuel utilization efficiency  \\\n",
       "0             Euro 6    9299000.0                    3.133333   \n",
       "1             Euro 5   12800000.0                    2.761905   \n",
       "2             Euro 6   17499000.0                    3.379310   \n",
       "3             Euro 6    9990000.0                    2.866667   \n",
       "4             Euro 6    9900000.0                    1.700000   \n",
       "\n",
       "   engine optimality  intensity of use  \n",
       "0            6826.20      16416.666667  \n",
       "1            3655.68       7342.857143  \n",
       "2            5343.54       4700.000000  \n",
       "3            5610.00      12575.000000  \n",
       "4            4692.00       2050.666667  \n",
       "\n",
       "[5 rows x 22 columns]"
      ]
     },
     "execution_count": 6,
     "metadata": {},
     "output_type": "execute_result"
    }
   ],
   "source": [
    "df = pd.read_csv(\"data/auto_new_.csv\")\n",
    "df.head(5)"
   ]
  },
  {
   "cell_type": "markdown",
   "metadata": {},
   "source": [
    "*Гипотеза: Мощность двигателя автомобилей с объемом двигателя более 2.0 литров в среднем больше мощности двигателя автомобилей с объемом двигателя менее 2.0 литров на 20% и более*"
   ]
  },
  {
   "cell_type": "code",
   "execution_count": 7,
   "metadata": {},
   "outputs": [
    {
     "name": "stdout",
     "output_type": "stream",
     "text": [
      "-19.124971542799923 2.3263478740408408\n"
     ]
    },
    {
     "data": {
      "text/plain": [
       "True"
      ]
     },
     "execution_count": 7,
     "metadata": {},
     "output_type": "execute_result"
    }
   ],
   "source": [
    "engine_power_l = df[df[\"engine volume\"] <= 2.0][\"engine power\"]\n",
    "engine_power_m = df[df[\"engine volume\"] > 2.0][\"engine power\"]\n",
    "\n",
    "n_l = engine_power_l.shape[0]\n",
    "n_m = engine_power_m.shape[0]\n",
    "\n",
    "l_mean = engine_power_l.mean()\n",
    "m_mean = engine_power_m.mean()\n",
    "l_var = engine_power_l.var(ddof = 1)\n",
    "m_var = engine_power_m.var(ddof = 1)\n",
    "\n",
    "z_obs = (l_mean - 0.8 * m_mean) / np.sqrt(l_var / n_l + 0.64 * m_var / n_m)\n",
    "z_crit = sts.norm.ppf(0.99)\n",
    "print(z_obs, z_crit)\n",
    "\n",
    "# Видим, что наблюдаемое значение меньше критического\n",
    "z_obs < z_crit"
   ]
  },
  {
   "cell_type": "markdown",
   "metadata": {},
   "source": [
    "*Гипотеза о том, что автомобили, у которых объём двигателя больше 2.0 литров имеют мощность больше на 20%, чем у автомобилей с объёмом двигателя меньше 2.0 литров, не отвергается на данном уровне значимости*"
   ]
  },
  {
   "cell_type": "markdown",
   "metadata": {},
   "source": [
    "*Гипотеза: В среднем цена на автомобили, произведённые в Германии, выше, чем цена на автомобили, произведённые в США*"
   ]
  },
  {
   "cell_type": "code",
   "execution_count": 8,
   "metadata": {},
   "outputs": [
    {
     "name": "stdout",
     "output_type": "stream",
     "text": [
      "14.518944569885198 1.6448536269514722\n"
     ]
    },
    {
     "data": {
      "text/plain": [
       "True"
      ]
     },
     "execution_count": 8,
     "metadata": {},
     "output_type": "execute_result"
    }
   ],
   "source": [
    "price_auto_G = df[df[\"country of the car brand\"] == \"Германия \"][\"price\"]\n",
    "price_auto_U = df[df[\"country of the car brand\"] == \"США \"][\"price\"]\n",
    "\n",
    "n_G = price_auto_G.shape[0]\n",
    "n_U = price_auto_U.shape[0]\n",
    "\n",
    "G_mean = price_auto_G.mean()\n",
    "U_mean = price_auto_U.mean()\n",
    "G_var = price_auto_G.var(ddof = 1)\n",
    "U_var = price_auto_U.var(ddof = 1)\n",
    "\n",
    "z_obs = (G_mean - U_mean) / np.sqrt(G_var / n_G + U_var / n_U)\n",
    "z_crit = sts.norm.ppf(0.95)\n",
    "print(z_obs, z_crit)\n",
    "\n",
    "# Видим, что наблюдаемое значение по модулю превышает критическое\n",
    "z_obs > z_crit"
   ]
  },
  {
   "cell_type": "markdown",
   "metadata": {},
   "source": [
    "*Гипотеза о том, что германские автомобили стоят больше, чем автомобили, произведённые в США, принимается на данном уровне значимости*"
   ]
  },
  {
   "cell_type": "markdown",
   "metadata": {},
   "source": [
    "*Гипотеза: Автомобили с автоматической коробкой передач имеют в среднем более высокий расход топлива, чем автомобили с механической коробкой передач*"
   ]
  },
  {
   "cell_type": "code",
   "execution_count": 9,
   "metadata": {},
   "outputs": [
    {
     "name": "stdout",
     "output_type": "stream",
     "text": [
      "10.132872827905564 1.6448536269514722\n"
     ]
    },
    {
     "data": {
      "text/plain": [
       "True"
      ]
     },
     "execution_count": 9,
     "metadata": {},
     "output_type": "execute_result"
    }
   ],
   "source": [
    "price_auto_a = df[df[\"transmission\"] == \"автоматическая\"][\"MPG\"]\n",
    "price_auto_m = df[df[\"transmission\"] == \"механическая\"][\"MPG\"]\n",
    "\n",
    "n_a = price_auto_a.shape[0]\n",
    "n_m = price_auto_m.shape[0]\n",
    "\n",
    "a_mean = price_auto_a.mean()\n",
    "m_mean = price_auto_m.mean()\n",
    "a_var = price_auto_a.var(ddof = 1)\n",
    "m_var = price_auto_m.var(ddof = 1)\n",
    "\n",
    "z_obs = (a_mean - m_mean) / np.sqrt(a_var / n_a + m_var / n_m)\n",
    "z_crit = sts.norm.ppf(0.95)\n",
    "print(z_obs, z_crit)\n",
    "\n",
    "# Видим, что наблюдаемое значение по модулю превышает критическое\n",
    "z_obs > z_crit"
   ]
  },
  {
   "cell_type": "markdown",
   "metadata": {},
   "source": [
    "*Гипотеза о том, что автомобили с автоматической коробкой передач имеют в среднем более высокий расход топлива, чем автомобили с механической коробкой передач, принимается на данном уровне значимости*"
   ]
  },
  {
   "cell_type": "markdown",
   "metadata": {},
   "source": [
    "*Гипотеза: Автомобили с экологическим классом \"Евро-6\" имеют в среднем более высокую стоимость, чем автомобили с экологическим классом \"Евро-5\"*"
   ]
  },
  {
   "cell_type": "code",
   "execution_count": 10,
   "metadata": {},
   "outputs": [
    {
     "name": "stdout",
     "output_type": "stream",
     "text": [
      "14.518944569885198 1.6448536269514722\n"
     ]
    },
    {
     "data": {
      "text/plain": [
       "True"
      ]
     },
     "execution_count": 10,
     "metadata": {},
     "output_type": "execute_result"
    }
   ],
   "source": [
    "price_auto_e6 = df[df[\"environmental class\"] == \"Euro 6 \"][\"price\"]\n",
    "price_auto_e5 = df[df[\"environmental class\"] == \"Euro 5 \"][\"price\"]\n",
    "\n",
    "n_e6 = price_auto_e6.shape[0]\n",
    "n_e5 = price_auto_e5.shape[0]\n",
    "\n",
    "e6_mean = price_auto_e6.mean()\n",
    "e5_mean = price_auto_e5.mean()\n",
    "e6_var = price_auto_e6.var(ddof = 1)\n",
    "e5_var = price_auto_e5.var(ddof = 1)\n",
    "\n",
    "z_obs = (G_mean - U_mean) / np.sqrt(G_var / n_G + U_var / n_U)\n",
    "z_crit = sts.norm.ppf(0.95)\n",
    "print(z_obs, z_crit)\n",
    "\n",
    "# Видим, что наблюдаемое значение по модулю превышает критическое\n",
    "z_obs > z_crit"
   ]
  },
  {
   "cell_type": "markdown",
   "metadata": {},
   "source": [
    "*Гипотеза о том, что автомобили с экологическим классом \"Евро-6\" имеют в среднем более высокую стоимость, чем автомобили с экологическим классом \"Евро-5\", принимается на данном уровне значимости*"
   ]
  },
  {
   "cell_type": "markdown",
   "metadata": {},
   "source": [
    "*Гипотеза: Автомобили с пробегом менее 50 000 км стоят в среднем на 30% дороже, чем автомобили с пробегом более 100 000 км*"
   ]
  },
  {
   "cell_type": "code",
   "execution_count": 11,
   "metadata": {},
   "outputs": [
    {
     "name": "stdout",
     "output_type": "stream",
     "text": [
      "17.363043399569204 2.3263478740408408\n"
     ]
    },
    {
     "data": {
      "text/plain": [
       "True"
      ]
     },
     "execution_count": 11,
     "metadata": {},
     "output_type": "execute_result"
    }
   ],
   "source": [
    "mileage_l = df[df[\"mileage\"] <= 50000][\"price\"]\n",
    "mileage_m = df[df[\"mileage\"] >= 100000][\"price\"]\n",
    "\n",
    "n_l = mileage_l.shape[0]\n",
    "n_m = mileage_m.shape[0]\n",
    "\n",
    "l_mean = mileage_l.mean()\n",
    "m_mean = mileage_m.mean()\n",
    "l_var = mileage_l.var(ddof = 1)\n",
    "m_var = mileage_m.var(ddof = 1)\n",
    "\n",
    "z_obs = (l_mean - 0.7 * m_mean) / np.sqrt(l_var / n_l + 0.49 * m_var / n_m)\n",
    "z_crit = sts.norm.ppf(0.99)\n",
    "print(z_obs, z_crit)\n",
    "\n",
    "# Видим, что наблюдаемое значение по модулю превышает критическое\n",
    "z_obs > z_crit"
   ]
  },
  {
   "cell_type": "markdown",
   "metadata": {},
   "source": [
    "*Гипотеза о том, что автомобили с пробегом менее 50 000 км в среднем на 30% дороже, чем автомобили с пробегом более 100 000 км отвергается на данном уровне значимости*"
   ]
  }
 ],
 "metadata": {
  "kernelspec": {
   "display_name": "Python 3",
   "language": "python",
   "name": "python3"
  },
  "language_info": {
   "codemirror_mode": {
    "name": "ipython",
    "version": 3
   },
   "file_extension": ".py",
   "mimetype": "text/x-python",
   "name": "python",
   "nbconvert_exporter": "python",
   "pygments_lexer": "ipython3",
   "version": "3.11.9"
  }
 },
 "nbformat": 4,
 "nbformat_minor": 2
}
