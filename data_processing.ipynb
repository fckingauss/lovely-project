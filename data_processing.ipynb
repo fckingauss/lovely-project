{
 "cells": [
  {
   "cell_type": "markdown",
   "id": "a9dde056",
   "metadata": {},
   "source": [
    "## Предварительная обработка данных"
   ]
  },
  {
   "cell_type": "markdown",
   "id": "10b73103",
   "metadata": {},
   "source": [
    "*Подгружаем нужные библиотеки*"
   ]
  },
  {
   "cell_type": "code",
   "execution_count": 1,
   "id": "c8fc9afd",
   "metadata": {},
   "outputs": [],
   "source": [
    "import pandas as pd\n",
    "import numpy as np\n",
    "import matplotlib.pyplot as plt\n",
    "import seaborn as sns"
   ]
  },
  {
   "cell_type": "markdown",
   "id": "a27c66d3",
   "metadata": {},
   "source": [
    "*Подгружаем файл*"
   ]
  },
  {
   "cell_type": "code",
   "execution_count": 2,
   "id": "1089859d",
   "metadata": {},
   "outputs": [
    {
     "data": {
      "text/html": [
       "<div>\n",
       "<style scoped>\n",
       "    .dataframe tbody tr th:only-of-type {\n",
       "        vertical-align: middle;\n",
       "    }\n",
       "\n",
       "    .dataframe tbody tr th {\n",
       "        vertical-align: top;\n",
       "    }\n",
       "\n",
       "    .dataframe thead th {\n",
       "        text-align: right;\n",
       "    }\n",
       "</style>\n",
       "<table border=\"1\" class=\"dataframe\">\n",
       "  <thead>\n",
       "    <tr style=\"text-align: right;\">\n",
       "      <th></th>\n",
       "      <th>model auto</th>\n",
       "      <th>year of production</th>\n",
       "      <th>mileage</th>\n",
       "      <th>exterior colour</th>\n",
       "      <th>tax</th>\n",
       "      <th>transmission</th>\n",
       "      <th>wheel drive</th>\n",
       "      <th>condition</th>\n",
       "      <th>number of owners</th>\n",
       "      <th>engine volume</th>\n",
       "      <th>engine power</th>\n",
       "      <th>engine type</th>\n",
       "      <th>fuel type</th>\n",
       "      <th>acceleration</th>\n",
       "      <th>MPG</th>\n",
       "      <th>country of the car brand</th>\n",
       "      <th>class</th>\n",
       "      <th>top speed</th>\n",
       "      <th>environmental class</th>\n",
       "      <th>price</th>\n",
       "    </tr>\n",
       "  </thead>\n",
       "  <tbody>\n",
       "    <tr>\n",
       "      <th>0</th>\n",
       "      <td>Mercedes-Benz GLS 450, 2019</td>\n",
       "      <td>2019</td>\n",
       "      <td>98 500 км</td>\n",
       "      <td>чёрный</td>\n",
       "      <td>55 050  / год</td>\n",
       "      <td>автоматическая</td>\n",
       "      <td>полный</td>\n",
       "      <td>Не требует ремонта</td>\n",
       "      <td>1 владелец</td>\n",
       "      <td>3.0 л</td>\n",
       "      <td>367 л.с.</td>\n",
       "      <td>бензиновый</td>\n",
       "      <td>АИ-95</td>\n",
       "      <td>6.2 с</td>\n",
       "      <td>9.4 л</td>\n",
       "      <td>Германия</td>\n",
       "      <td>F</td>\n",
       "      <td>246 км/ч</td>\n",
       "      <td>Euro 6</td>\n",
       "      <td>9 299 000</td>\n",
       "    </tr>\n",
       "    <tr>\n",
       "      <th>1</th>\n",
       "      <td>Mercedes-Benz V-Класс XL 200 d экстра длинный,...</td>\n",
       "      <td>2018</td>\n",
       "      <td>51 400 км</td>\n",
       "      <td>чёрный</td>\n",
       "      <td>4 760  / год</td>\n",
       "      <td>автоматическая</td>\n",
       "      <td>задний</td>\n",
       "      <td>Не требует ремонта</td>\n",
       "      <td>2 владельца</td>\n",
       "      <td>2.1 л</td>\n",
       "      <td>136 л.с.</td>\n",
       "      <td>дизельный</td>\n",
       "      <td>ДТ</td>\n",
       "      <td>12.8 с</td>\n",
       "      <td>5.8 л</td>\n",
       "      <td>Германия</td>\n",
       "      <td>M</td>\n",
       "      <td>181 км/ч</td>\n",
       "      <td>Euro 5</td>\n",
       "      <td>12 800 000</td>\n",
       "    </tr>\n",
       "    <tr>\n",
       "      <th>2</th>\n",
       "      <td>Mercedes-Benz G-Класс 350 d, 2020</td>\n",
       "      <td>2020</td>\n",
       "      <td>23 500 км</td>\n",
       "      <td>чёрный</td>\n",
       "      <td>18 675  / год</td>\n",
       "      <td>автоматическая</td>\n",
       "      <td>полный</td>\n",
       "      <td>Не требует ремонта</td>\n",
       "      <td>1 владелец</td>\n",
       "      <td>2.9 л</td>\n",
       "      <td>249 л.с.</td>\n",
       "      <td>дизельный</td>\n",
       "      <td>ДТ</td>\n",
       "      <td>7.4 с</td>\n",
       "      <td>9.8 л</td>\n",
       "      <td>Германия</td>\n",
       "      <td>J</td>\n",
       "      <td>199 км/ч</td>\n",
       "      <td>Euro 6</td>\n",
       "      <td>17 499 000</td>\n",
       "    </tr>\n",
       "    <tr>\n",
       "      <th>3</th>\n",
       "      <td>BMW X6 40i, 2021</td>\n",
       "      <td>2021</td>\n",
       "      <td>50 300 км</td>\n",
       "      <td>чёрный</td>\n",
       "      <td>51 000  / год</td>\n",
       "      <td>автоматическая</td>\n",
       "      <td>полный</td>\n",
       "      <td>Не требует ремонта</td>\n",
       "      <td>2 владельца</td>\n",
       "      <td>3.0 л</td>\n",
       "      <td>340 л.с.</td>\n",
       "      <td>бензиновый</td>\n",
       "      <td>АИ-95</td>\n",
       "      <td>5.5 с</td>\n",
       "      <td>8.6 л</td>\n",
       "      <td>Германия</td>\n",
       "      <td>E</td>\n",
       "      <td>250 км/ч</td>\n",
       "      <td>Euro 6</td>\n",
       "      <td>9 990 000</td>\n",
       "    </tr>\n",
       "    <tr>\n",
       "      <th>4</th>\n",
       "      <td>BMW 5 серии 540d xDrive, 2022</td>\n",
       "      <td>2022</td>\n",
       "      <td>6 152 км</td>\n",
       "      <td>серый</td>\n",
       "      <td>51 000  / год</td>\n",
       "      <td>автоматическая</td>\n",
       "      <td>полный</td>\n",
       "      <td>Не требует ремонта</td>\n",
       "      <td>1 владелец</td>\n",
       "      <td>3.0 л</td>\n",
       "      <td>340 л.с.</td>\n",
       "      <td>дизельный</td>\n",
       "      <td>ДТ</td>\n",
       "      <td>4.6 с</td>\n",
       "      <td>5.1 л</td>\n",
       "      <td>Германия</td>\n",
       "      <td>E</td>\n",
       "      <td>250 км/ч</td>\n",
       "      <td>Euro 6</td>\n",
       "      <td>9 900 000</td>\n",
       "    </tr>\n",
       "  </tbody>\n",
       "</table>\n",
       "</div>"
      ],
      "text/plain": [
       "                                          model auto  year of production  \\\n",
       "0                        Mercedes-Benz GLS 450, 2019                2019   \n",
       "1  Mercedes-Benz V-Класс XL 200 d экстра длинный,...                2018   \n",
       "2                  Mercedes-Benz G-Класс 350 d, 2020                2020   \n",
       "3                                   BMW X6 40i, 2021                2021   \n",
       "4                      BMW 5 серии 540d xDrive, 2022                2022   \n",
       "\n",
       "     mileage exterior colour            tax    transmission wheel drive  \\\n",
       "0  98 500 км          чёрный  55 050  / год  автоматическая      полный   \n",
       "1  51 400 км          чёрный   4 760  / год  автоматическая      задний   \n",
       "2  23 500 км          чёрный  18 675  / год  автоматическая      полный   \n",
       "3  50 300 км          чёрный  51 000  / год  автоматическая      полный   \n",
       "4   6 152 км           серый  51 000  / год  автоматическая      полный   \n",
       "\n",
       "            condition number of owners engine volume engine power  \\\n",
       "0  Не требует ремонта       1 владелец         3.0 л     367 л.с.   \n",
       "1  Не требует ремонта      2 владельца         2.1 л     136 л.с.   \n",
       "2  Не требует ремонта       1 владелец         2.9 л     249 л.с.   \n",
       "3  Не требует ремонта      2 владельца         3.0 л     340 л.с.   \n",
       "4  Не требует ремонта       1 владелец         3.0 л     340 л.с.   \n",
       "\n",
       "   engine type fuel type acceleration    MPG country of the car brand class  \\\n",
       "0  бензиновый     АИ-95         6.2 с  9.4 л                Германия     F    \n",
       "1   дизельный        ДТ        12.8 с  5.8 л                Германия     M    \n",
       "2   дизельный        ДТ         7.4 с  9.8 л                Германия     J    \n",
       "3  бензиновый     АИ-95         5.5 с  8.6 л                Германия     E    \n",
       "4   дизельный        ДТ         4.6 с  5.1 л                Германия     E    \n",
       "\n",
       "  top speed environmental class        price  \n",
       "0  246 км/ч             Euro 6    9 299 000   \n",
       "1  181 км/ч             Euro 5   12 800 000   \n",
       "2  199 км/ч             Euro 6   17 499 000   \n",
       "3  250 км/ч             Euro 6    9 990 000   \n",
       "4  250 км/ч             Euro 6    9 900 000   "
      ]
     },
     "execution_count": 2,
     "metadata": {},
     "output_type": "execute_result"
    }
   ],
   "source": [
    "df = pd.read_csv(\"data\\\\auto.csv\", na_values = '?')\n",
    "df.head(5)"
   ]
  },
  {
   "cell_type": "markdown",
   "id": "7d606cf2",
   "metadata": {},
   "source": [
    "**Описание переменных**\n",
    "\n",
    "* `model auto` — модель и марка автомобиля\n",
    "* `year of production` — год выпуска\n",
    "* `mileage` — пробег\n",
    "* `exterior colour` — цвет кузова\n",
    "* `tax` — налог\n",
    "* `transmission` — тип коробки передач\n",
    "* `wheel drive` — тип привода\n",
    "* `condition` — состояние автомобиля\n",
    "* `number of owners` — количество владельцев\n",
    "* `engine volume` — объём двигателя\n",
    "* `engine power` — мощность двигателя\n",
    "* `engine type` — тип двигателя\n",
    "* `fuel type` — тип топлива\n",
    "* `acceleration` — время разгона до 100 км/ч\n",
    "* `MPG` — средний расход топлива\n",
    "* `country of the car brand` — страна-производитель\n",
    "* `class` — класс автомобиля\n",
    "* `top speed` — максимальная скорость\n",
    "* `environmental class` — экологический класс\n",
    "* `price` — цена"
   ]
  },
  {
   "cell_type": "markdown",
   "id": "1884beb2",
   "metadata": {},
   "source": [
    "*Для начала из столбца `model auto` уберём всё, кроме марки автомобиля*"
   ]
  },
  {
   "cell_type": "code",
   "execution_count": 3,
   "id": "73ae7464",
   "metadata": {},
   "outputs": [],
   "source": [
    "df[\"model auto\"] = df[\"model auto\"].apply(lambda x: x.split(' ')[0])"
   ]
  },
  {
   "cell_type": "markdown",
   "id": "b5b29ae2",
   "metadata": {},
   "source": [
    "*Теперь в столбцах: `mileage`, `tax`, `volume`, `power`, `acceleration`, `consumption`, `speed`, `price` мы уберём символы и оставим только числовые данные*"
   ]
  },
  {
   "cell_type": "code",
   "execution_count": 4,
   "id": "d8d3bb31",
   "metadata": {},
   "outputs": [],
   "source": [
    "def correct_values(value: str):\n",
    "    result = ''\n",
    "    for i in value:\n",
    "        if (i.isdigit()):\n",
    "            result += i\n",
    "    return float(result if (result != '') else np.nan)"
   ]
  },
  {
   "cell_type": "code",
   "execution_count": 5,
   "id": "280938bd",
   "metadata": {},
   "outputs": [],
   "source": [
    "for col in ['mileage', 'tax', 'engine volume', 'engine power', 'acceleration', 'MPG', 'top speed', 'price']:\n",
    "    df[col] = df[col].map(lambda x: correct_values(x), na_action = \"ignore\")"
   ]
  },
  {
   "cell_type": "markdown",
   "id": "17123273",
   "metadata": {},
   "source": [
    "*Посмотрим на количество пропусков в данных*"
   ]
  },
  {
   "cell_type": "code",
   "execution_count": 6,
   "id": "12f8f2ee",
   "metadata": {},
   "outputs": [
    {
     "data": {
      "text/plain": [
       "model auto                  0.000000\n",
       "year of production          0.000000\n",
       "mileage                     0.000000\n",
       "exterior colour             0.000000\n",
       "tax                         0.007153\n",
       "transmission                0.000000\n",
       "wheel drive                 0.000000\n",
       "condition                   0.000000\n",
       "number of owners            0.000358\n",
       "engine volume               0.000715\n",
       "engine power                0.000358\n",
       "engine type                 0.000358\n",
       "fuel type                   0.027539\n",
       "acceleration                0.033977\n",
       "MPG                         0.030758\n",
       "country of the car brand    0.000358\n",
       "class                       0.000715\n",
       "top speed                   0.028612\n",
       "environmental class         0.234979\n",
       "price                       0.000000\n",
       "dtype: float64"
      ]
     },
     "execution_count": 6,
     "metadata": {},
     "output_type": "execute_result"
    }
   ],
   "source": [
    "df.isna().agg('mean')"
   ]
  },
  {
   "cell_type": "markdown",
   "id": "5b48e801",
   "metadata": {},
   "source": [
    "*Можем заметить, что в столбце environmental class более чем в 20% случаев отсутствуют данные</br>\n",
    "Сделаем предположение, что если не указан экологический класс автомобиля, то его просто нет, тогда заменим пропуски на значение **Euro 0***"
   ]
  },
  {
   "cell_type": "code",
   "execution_count": 7,
   "id": "7b174ef8",
   "metadata": {},
   "outputs": [],
   "source": [
    "df[\"environmental class\"] = df[\"environmental class\"].fillna(\"Euro 0\")"
   ]
  },
  {
   "cell_type": "markdown",
   "id": "5746aaf3",
   "metadata": {},
   "source": [
    "*Посмотрим на значения в столбце `condition`*"
   ]
  },
  {
   "cell_type": "code",
   "execution_count": 8,
   "id": "519e4efa",
   "metadata": {},
   "outputs": [
    {
     "data": {
      "text/plain": [
       "condition\n",
       "Не требует ремонта    2796\n",
       "Name: count, dtype: int64"
      ]
     },
     "execution_count": 8,
     "metadata": {},
     "output_type": "execute_result"
    }
   ],
   "source": [
    "df[\"condition\"].value_counts()"
   ]
  },
  {
   "cell_type": "markdown",
   "id": "bd02379d",
   "metadata": {},
   "source": [
    "*Все значения в столбце одинаковые, он не несёт никакого смысла, поэтому удалим его*"
   ]
  },
  {
   "cell_type": "code",
   "execution_count": 9,
   "id": "38884385",
   "metadata": {},
   "outputs": [],
   "source": [
    "df = df.drop([\"condition\"], axis = 1)"
   ]
  },
  {
   "cell_type": "markdown",
   "id": "f3d7f892",
   "metadata": {},
   "source": [
    "*Посмотрим на типы данных каждого столбца в нашей таблице и убедимся, что всё верно*"
   ]
  },
  {
   "cell_type": "code",
   "execution_count": 10,
   "id": "b77bc58a",
   "metadata": {},
   "outputs": [
    {
     "name": "stdout",
     "output_type": "stream",
     "text": [
      "<class 'pandas.core.frame.DataFrame'>\n",
      "RangeIndex: 2796 entries, 0 to 2795\n",
      "Data columns (total 19 columns):\n",
      " #   Column                    Non-Null Count  Dtype  \n",
      "---  ------                    --------------  -----  \n",
      " 0   model auto                2796 non-null   object \n",
      " 1   year of production        2796 non-null   int64  \n",
      " 2   mileage                   2796 non-null   float64\n",
      " 3   exterior colour           2796 non-null   object \n",
      " 4   tax                       2776 non-null   float64\n",
      " 5   transmission              2796 non-null   object \n",
      " 6   wheel drive               2796 non-null   object \n",
      " 7   number of owners          2795 non-null   object \n",
      " 8   engine volume             2794 non-null   float64\n",
      " 9   engine power              2795 non-null   float64\n",
      " 10  engine type               2795 non-null   object \n",
      " 11  fuel type                 2719 non-null   object \n",
      " 12  acceleration              2701 non-null   float64\n",
      " 13  MPG                       2710 non-null   float64\n",
      " 14  country of the car brand  2795 non-null   object \n",
      " 15  class                     2794 non-null   object \n",
      " 16  top speed                 2716 non-null   float64\n",
      " 17  environmental class       2796 non-null   object \n",
      " 18  price                     2796 non-null   float64\n",
      "dtypes: float64(8), int64(1), object(10)\n",
      "memory usage: 415.2+ KB\n"
     ]
    }
   ],
   "source": [
    "df.info()"
   ]
  },
  {
   "cell_type": "markdown",
   "id": "87f2146d",
   "metadata": {},
   "source": [
    "*Ещё раз посмотрим на количество пропусков в нашей таблице*"
   ]
  },
  {
   "cell_type": "code",
   "execution_count": 11,
   "id": "905937ea",
   "metadata": {},
   "outputs": [
    {
     "data": {
      "text/plain": [
       "model auto                   0\n",
       "year of production           0\n",
       "mileage                      0\n",
       "exterior colour              0\n",
       "tax                         20\n",
       "transmission                 0\n",
       "wheel drive                  0\n",
       "number of owners             1\n",
       "engine volume                2\n",
       "engine power                 1\n",
       "engine type                  1\n",
       "fuel type                   77\n",
       "acceleration                95\n",
       "MPG                         86\n",
       "country of the car brand     1\n",
       "class                        2\n",
       "top speed                   80\n",
       "environmental class          0\n",
       "price                        0\n",
       "dtype: int64"
      ]
     },
     "execution_count": 11,
     "metadata": {},
     "output_type": "execute_result"
    }
   ],
   "source": [
    "df.isna().agg('sum')"
   ]
  },
  {
   "cell_type": "markdown",
   "id": "09959a54",
   "metadata": {},
   "source": [
    "*Так как пропусков не очень много, а замена на медиану не будет точной метрикой, поскольку многое зависит от марки автомобиля и мы можем занизить характеристики дорогих автомобилей, то просто удалим строки, в которых есть пропущенные значения*"
   ]
  },
  {
   "cell_type": "code",
   "execution_count": 12,
   "id": "ce631a6e",
   "metadata": {},
   "outputs": [],
   "source": [
    "df = df.dropna()"
   ]
  },
  {
   "cell_type": "markdown",
   "id": "6b1dea5f",
   "metadata": {},
   "source": [
    "*Сохранение данных*"
   ]
  },
  {
   "cell_type": "code",
   "execution_count": 13,
   "id": "6c1ba349",
   "metadata": {},
   "outputs": [],
   "source": [
    "df.to_csv('data\\\\auto_new.csv', index=False)"
   ]
  },
  {
   "cell_type": "markdown",
   "id": "bd76e27a",
   "metadata": {},
   "source": [
    "*Посмотрим на новые данные*"
   ]
  },
  {
   "cell_type": "code",
   "execution_count": 14,
   "id": "4f872bf1",
   "metadata": {},
   "outputs": [
    {
     "data": {
      "text/html": [
       "<div>\n",
       "<style scoped>\n",
       "    .dataframe tbody tr th:only-of-type {\n",
       "        vertical-align: middle;\n",
       "    }\n",
       "\n",
       "    .dataframe tbody tr th {\n",
       "        vertical-align: top;\n",
       "    }\n",
       "\n",
       "    .dataframe thead th {\n",
       "        text-align: right;\n",
       "    }\n",
       "</style>\n",
       "<table border=\"1\" class=\"dataframe\">\n",
       "  <thead>\n",
       "    <tr style=\"text-align: right;\">\n",
       "      <th></th>\n",
       "      <th>model auto</th>\n",
       "      <th>year of production</th>\n",
       "      <th>mileage</th>\n",
       "      <th>exterior colour</th>\n",
       "      <th>tax</th>\n",
       "      <th>transmission</th>\n",
       "      <th>wheel drive</th>\n",
       "      <th>number of owners</th>\n",
       "      <th>engine volume</th>\n",
       "      <th>engine power</th>\n",
       "      <th>engine type</th>\n",
       "      <th>fuel type</th>\n",
       "      <th>acceleration</th>\n",
       "      <th>MPG</th>\n",
       "      <th>country of the car brand</th>\n",
       "      <th>class</th>\n",
       "      <th>top speed</th>\n",
       "      <th>environmental class</th>\n",
       "      <th>price</th>\n",
       "    </tr>\n",
       "  </thead>\n",
       "  <tbody>\n",
       "    <tr>\n",
       "      <th>0</th>\n",
       "      <td>Mercedes-Benz</td>\n",
       "      <td>2019</td>\n",
       "      <td>98500.0</td>\n",
       "      <td>чёрный</td>\n",
       "      <td>55050.0</td>\n",
       "      <td>автоматическая</td>\n",
       "      <td>полный</td>\n",
       "      <td>1 владелец</td>\n",
       "      <td>30.0</td>\n",
       "      <td>367.0</td>\n",
       "      <td>бензиновый</td>\n",
       "      <td>АИ-95</td>\n",
       "      <td>62.0</td>\n",
       "      <td>94.0</td>\n",
       "      <td>Германия</td>\n",
       "      <td>F</td>\n",
       "      <td>246.0</td>\n",
       "      <td>Euro 6</td>\n",
       "      <td>9299000.0</td>\n",
       "    </tr>\n",
       "    <tr>\n",
       "      <th>1</th>\n",
       "      <td>Mercedes-Benz</td>\n",
       "      <td>2018</td>\n",
       "      <td>51400.0</td>\n",
       "      <td>чёрный</td>\n",
       "      <td>4760.0</td>\n",
       "      <td>автоматическая</td>\n",
       "      <td>задний</td>\n",
       "      <td>2 владельца</td>\n",
       "      <td>21.0</td>\n",
       "      <td>136.0</td>\n",
       "      <td>дизельный</td>\n",
       "      <td>ДТ</td>\n",
       "      <td>128.0</td>\n",
       "      <td>58.0</td>\n",
       "      <td>Германия</td>\n",
       "      <td>M</td>\n",
       "      <td>181.0</td>\n",
       "      <td>Euro 5</td>\n",
       "      <td>12800000.0</td>\n",
       "    </tr>\n",
       "    <tr>\n",
       "      <th>2</th>\n",
       "      <td>Mercedes-Benz</td>\n",
       "      <td>2020</td>\n",
       "      <td>23500.0</td>\n",
       "      <td>чёрный</td>\n",
       "      <td>18675.0</td>\n",
       "      <td>автоматическая</td>\n",
       "      <td>полный</td>\n",
       "      <td>1 владелец</td>\n",
       "      <td>29.0</td>\n",
       "      <td>249.0</td>\n",
       "      <td>дизельный</td>\n",
       "      <td>ДТ</td>\n",
       "      <td>74.0</td>\n",
       "      <td>98.0</td>\n",
       "      <td>Германия</td>\n",
       "      <td>J</td>\n",
       "      <td>199.0</td>\n",
       "      <td>Euro 6</td>\n",
       "      <td>17499000.0</td>\n",
       "    </tr>\n",
       "    <tr>\n",
       "      <th>3</th>\n",
       "      <td>BMW</td>\n",
       "      <td>2021</td>\n",
       "      <td>50300.0</td>\n",
       "      <td>чёрный</td>\n",
       "      <td>51000.0</td>\n",
       "      <td>автоматическая</td>\n",
       "      <td>полный</td>\n",
       "      <td>2 владельца</td>\n",
       "      <td>30.0</td>\n",
       "      <td>340.0</td>\n",
       "      <td>бензиновый</td>\n",
       "      <td>АИ-95</td>\n",
       "      <td>55.0</td>\n",
       "      <td>86.0</td>\n",
       "      <td>Германия</td>\n",
       "      <td>E</td>\n",
       "      <td>250.0</td>\n",
       "      <td>Euro 6</td>\n",
       "      <td>9990000.0</td>\n",
       "    </tr>\n",
       "    <tr>\n",
       "      <th>4</th>\n",
       "      <td>BMW</td>\n",
       "      <td>2022</td>\n",
       "      <td>6152.0</td>\n",
       "      <td>серый</td>\n",
       "      <td>51000.0</td>\n",
       "      <td>автоматическая</td>\n",
       "      <td>полный</td>\n",
       "      <td>1 владелец</td>\n",
       "      <td>30.0</td>\n",
       "      <td>340.0</td>\n",
       "      <td>дизельный</td>\n",
       "      <td>ДТ</td>\n",
       "      <td>46.0</td>\n",
       "      <td>51.0</td>\n",
       "      <td>Германия</td>\n",
       "      <td>E</td>\n",
       "      <td>250.0</td>\n",
       "      <td>Euro 6</td>\n",
       "      <td>9900000.0</td>\n",
       "    </tr>\n",
       "  </tbody>\n",
       "</table>\n",
       "</div>"
      ],
      "text/plain": [
       "      model auto  year of production  mileage exterior colour      tax  \\\n",
       "0  Mercedes-Benz                2019  98500.0          чёрный  55050.0   \n",
       "1  Mercedes-Benz                2018  51400.0          чёрный   4760.0   \n",
       "2  Mercedes-Benz                2020  23500.0          чёрный  18675.0   \n",
       "3            BMW                2021  50300.0          чёрный  51000.0   \n",
       "4            BMW                2022   6152.0           серый  51000.0   \n",
       "\n",
       "     transmission wheel drive number of owners  engine volume  engine power  \\\n",
       "0  автоматическая      полный       1 владелец           30.0         367.0   \n",
       "1  автоматическая      задний      2 владельца           21.0         136.0   \n",
       "2  автоматическая      полный       1 владелец           29.0         249.0   \n",
       "3  автоматическая      полный      2 владельца           30.0         340.0   \n",
       "4  автоматическая      полный       1 владелец           30.0         340.0   \n",
       "\n",
       "   engine type fuel type  acceleration   MPG country of the car brand class  \\\n",
       "0  бензиновый     АИ-95           62.0  94.0                Германия     F    \n",
       "1   дизельный        ДТ          128.0  58.0                Германия     M    \n",
       "2   дизельный        ДТ           74.0  98.0                Германия     J    \n",
       "3  бензиновый     АИ-95           55.0  86.0                Германия     E    \n",
       "4   дизельный        ДТ           46.0  51.0                Германия     E    \n",
       "\n",
       "   top speed environmental class       price  \n",
       "0      246.0             Euro 6    9299000.0  \n",
       "1      181.0             Euro 5   12800000.0  \n",
       "2      199.0             Euro 6   17499000.0  \n",
       "3      250.0             Euro 6    9990000.0  \n",
       "4      250.0             Euro 6    9900000.0  "
      ]
     },
     "execution_count": 14,
     "metadata": {},
     "output_type": "execute_result"
    }
   ],
   "source": [
    "df_new = pd.read_csv(\"data\\\\auto_new.csv\")\n",
    "df_new.head(5)"
   ]
  }
 ],
 "metadata": {
  "kernelspec": {
   "display_name": "Python 3 (ipykernel)",
   "language": "python",
   "name": "python3"
  },
  "language_info": {
   "codemirror_mode": {
    "name": "ipython",
    "version": 3
   },
   "file_extension": ".py",
   "mimetype": "text/x-python",
   "name": "python",
   "nbconvert_exporter": "python",
   "pygments_lexer": "ipython3",
   "version": "3.11.5"
  }
 },
 "nbformat": 4,
 "nbformat_minor": 5
}
