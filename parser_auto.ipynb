{
 "cells": [
  {
   "cell_type": "markdown",
   "metadata": {},
   "source": [
    "## Сбор данных"
   ]
  },
  {
   "cell_type": "markdown",
   "metadata": {},
   "source": [
    "*Подключение библиотек для сбора данных*"
   ]
  },
  {
   "cell_type": "code",
   "execution_count": null,
   "metadata": {},
   "outputs": [],
   "source": [
    "from selenium import webdriver\n",
    "from selenium.common.exceptions import NoSuchElementException\n",
    "from selenium.common.exceptions import TimeoutException\n",
    "from selenium.webdriver.common.by import By"
   ]
  },
  {
   "cell_type": "markdown",
   "metadata": {},
   "source": [
    "*Создание списка с городами, по которым наш парсер будет проходиться*"
   ]
  },
  {
   "cell_type": "code",
   "execution_count": null,
   "metadata": {},
   "outputs": [],
   "source": [
    "CITY = [\n",
    "    \"moskva\", \"sankt-peterburg\", \"vladimir\", \"volgograd\", \"voronezh\", \"ekaterinburg\",\n",
    "    \"ivanovo\", \"kazan\", \"kaluga\", \"kostroma\", \"krasnodar\", \"krasnoyarsk\",\n",
    "    \"nizhniy_novgorod\", \"novosibirsk\", \"omsk\", \"perm\", \"rostov-na-donu\", \"samara\",\n",
    "    \"saratov\", \"tver\", \"tula\", \"ufa\", \"chelyabinsk\", \"yaroslavl\"\n",
    "]"
   ]
  },
  {
   "cell_type": "markdown",
   "metadata": {},
   "source": [
    "*Создание словаря, где ключ - это признак, с помощью которого мы будем искать данные на странице, а значение - название столбца, куда будет записываться значение, соответствующее признаку*"
   ]
  },
  {
   "cell_type": "code",
   "execution_count": null,
   "metadata": {},
   "outputs": [],
   "source": [
    "dict_characteristics_main = {\n",
    "    \"Год выпуска\": \"year of production\",\n",
    "    \"Пробег\": \"mileage\",\n",
    "    \"Цвет\": \"exterior colour\",\n",
    "    \"Налог\": \"tax\",\n",
    "    \"Коробка\": \"transmission\",\n",
    "    \"Привод\": \"wheel drive\",\n",
    "    \"Состояние\": \"condition\",\n",
    "    \"Владельцы\": \"number of owners\"\n",
    "}\n",
    "\n",
    "dict_characteristics_other = {\n",
    "    \"Объем\": \"engine volume\",\n",
    "    \"Мощность\": \"engine power\",\n",
    "    \"Тип двигателя\": \"engine type\",\n",
    "    \"Топливо\": \"fuel type\",\n",
    "    \"Разгон\": \"acceleration\",\n",
    "    \"Расход\": \"MPG\",\n",
    "    \"Страна марки\": \"country of the car brand\",\n",
    "    \"Класс автомобиля\": \"class\",\n",
    "    \"Максимальная скорость\": \"top speed\",\n",
    "    \"Экологический класс\": \"environmental class\"\n",
    "}"
   ]
  },
  {
   "cell_type": "markdown",
   "metadata": {},
   "source": [
    "*Генерируем URL для страницы с объявлениями об автомобилях по указанному городу и номеру страницы*"
   ]
  },
  {
   "cell_type": "code",
   "execution_count": null,
   "metadata": {},
   "outputs": [],
   "source": [
    "def get_url(city, page):\n",
    "    return f\"https://auto.ru/{city}/cars/used/?page={page}\""
   ]
  },
  {
   "cell_type": "markdown",
   "metadata": {},
   "source": [
    "*Получаем количество страниц с объявлениями об автомобилях в конкретном городе*"
   ]
  },
  {
   "cell_type": "code",
   "execution_count": null,
   "metadata": {},
   "outputs": [],
   "source": [
    "def get_pagenation(driver):\n",
    "    return int(driver.find_element(by = By.XPATH, value = \"//a[contains(@class, 'ListingPagination__page')][last()]\").get_attribute(\"href\").split(\"page=\")[1])"
   ]
  },
  {
   "cell_type": "markdown",
   "metadata": {},
   "source": [
    "*Извлекаем URL-адреса объявлений об автомобилях с текущей страницы и записываем их в список*"
   ]
  },
  {
   "cell_type": "code",
   "execution_count": null,
   "metadata": {},
   "outputs": [],
   "source": [
    "def get_urls_from_page(driver):\n",
    "    array_auto = driver.find_elements(by = By.XPATH, value = \"//a[@class='Link ListingItemTitle__link']\")\n",
    "    array_url_auto = []\n",
    "    for i in range(len(array_auto)):\n",
    "        array_url_auto.append(array_auto[i].get_attribute(\"href\"))\n",
    "    return array_url_auto"
   ]
  },
  {
   "cell_type": "markdown",
   "metadata": {},
   "source": [
    "*Проходимся поочерёдно по каждому городу, странице и сохраняем ссылки на объявления, вызываем вспомогательную функцию, которая найдёт все характеристики на странице*"
   ]
  },
  {
   "cell_type": "code",
   "execution_count": null,
   "metadata": {},
   "outputs": [],
   "source": [
    "def processing_autos(driver):\n",
    "    for city in CITY:\n",
    "        driver.get(get_url(city, 1))\n",
    "        pages = get_pagenation(driver)\n",
    "        for page in range(1, pages + 1):\n",
    "            array_informations_auto = []\n",
    "            driver.get(get_url(city, page))\n",
    "            array_url_car = get_urls_from_page(driver)\n",
    "            for i in range(len(array_url_car)):\n",
    "                array_informations_auto.append({})\n",
    "                try:\n",
    "                    driver.get(array_url_car[i])\n",
    "                except TimeoutException:\n",
    "                    pass\n",
    "                driver.implicitly_wait(1)\n",
    "                try:\n",
    "                    processing_characteristics_auto(driver, array_informations_auto, i)\n",
    "                except (NoSuchElementException, TimeoutException):\n",
    "                    pass\n",
    "\n",
    "            array_informations_auto.clear()"
   ]
  },
  {
   "cell_type": "markdown",
   "metadata": {},
   "source": [
    "*Вспомогательная функция*"
   ]
  },
  {
   "cell_type": "code",
   "execution_count": null,
   "metadata": {},
   "outputs": [],
   "source": [
    "def processing_characteristics_auto(driver, array_informations_auto, i):\n",
    "    model = driver.find_element(by = By.XPATH, value = \"//h1[@class='CardHead__title']\")\n",
    "    array_informations_auto[i][\"model auto\"] = model.text\n",
    "\n",
    "    price = driver.find_element(by = By.XPATH, value = \"//span[@class='OfferPriceCaption__price']\")\n",
    "    array_informations_auto[i][\"price\"] = price.text.replace('₽', '')\n",
    "\n",
    "    generation = driver.find_element(by = By.XPATH, value = \"//span[contains(text(), 'Поколение')]/../span[@class='CardInfoRow__cell'][2]//a\")\n",
    "    url = generation.get_attribute(\"href\")\n",
    "\n",
    "    for key, value in dict_characteristics_main.items():\n",
    "        pair = driver.find_elements(by = By.XPATH, value = f\"//span[contains(text(), '{key}')]/../span[@class='CardInfoRow__cell']/../span[2]\")\n",
    "        try:\n",
    "            if (key == \"Налог\"):\n",
    "                array_informations_auto[i][f\"{value}\"] = pair[0].text.replace('₽', '')\n",
    "            else:\n",
    "                array_informations_auto[i][f\"{value}\"] = pair[0].text\n",
    "        except IndexError:\n",
    "            array_informations_auto[i][f\"{value}\"] = \"?\"\n",
    "\n",
    "    driver.get(f'{url}')\n",
    "\n",
    "    for key, value in dict_characteristics_other.items():\n",
    "        pair = driver.find_elements(by=By.XPATH, value=f\"//span[contains(text(), '{key}')]/..//span[2]\")\n",
    "        try:\n",
    "            array_informations_auto[i][f\"{value}\"] = pair[0].text\n",
    "        except IndexError:\n",
    "            array_informations_auto[i][f\"{value}\"] = \"?\""
   ]
  },
  {
   "cell_type": "markdown",
   "metadata": {},
   "source": [
    "*Отключаем обнаружение WebDriver, создаём экземпляр веб-драйвера Firefox и запускаем наш парсер*"
   ]
  },
  {
   "cell_type": "code",
   "execution_count": null,
   "metadata": {},
   "outputs": [],
   "source": [
    "options = webdriver.FirefoxOptions()\n",
    "options.set_preference(\"dom.webdriver.enabled\", False)\n",
    "\n",
    "driver = webdriver.Firefox(options=options)\n",
    "\n",
    "driver.close()"
   ]
  }
 ],
 "metadata": {
  "language_info": {
   "name": "python"
  }
 },
 "nbformat": 4,
 "nbformat_minor": 2
}
