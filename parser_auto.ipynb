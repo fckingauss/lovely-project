{
 "cells": [
  {
   "cell_type": "markdown",
   "metadata": {},
   "source": [
    "## Сбор данных"
   ]
  },
  {
   "cell_type": "markdown",
   "metadata": {},
   "source": [
    "*Подключение библиотек для сбора данных*"
   ]
  },
  {
   "cell_type": "code",
   "execution_count": null,
   "metadata": {},
   "outputs": [],
   "source": [
    "from selenium import webdriver\n",
    "from selenium.webdriver.common.by import By"
   ]
  },
  {
   "cell_type": "markdown",
   "metadata": {},
   "source": [
    "*Создание списка с городами, по которым наш парсер будет проходиться*"
   ]
  },
  {
   "cell_type": "code",
   "execution_count": null,
   "metadata": {},
   "outputs": [],
   "source": [
    "CITY = [\n",
    "    \"moskva\", \"sankt-peterburg\", \"vladimir\", \"volgograd\", \"voronezh\", \"ekaterinburg\",\n",
    "    \"ivanovo\", \"kazan\", \"kaluga\", \"kostroma\", \"krasnodar\", \"krasnoyarsk\",\n",
    "    \"nizhniy_novgorod\", \"novosibirsk\", \"omsk\", \"perm\", \"rostov-na-donu\", \"samara\",\n",
    "    \"saratov\", \"tver\", \"tula\", \"ufa\", \"chelyabinsk\", \"yaroslavl\"\n",
    "]"
   ]
  },
  {
   "cell_type": "markdown",
   "metadata": {},
   "source": [
    "*Генерируем URL для страницы с объявлениями об автомобилях по указанному городу и номеру страницы*"
   ]
  },
  {
   "cell_type": "code",
   "execution_count": null,
   "metadata": {},
   "outputs": [],
   "source": [
    "def get_url(city, page):\n",
    "    return f\"https://auto.ru/{city}/cars/used/?page={page}\""
   ]
  },
  {
   "cell_type": "markdown",
   "metadata": {},
   "source": [
    "*Получаем количество страниц с объявлениями об автомобилях в конкретном городе*"
   ]
  },
  {
   "cell_type": "code",
   "execution_count": null,
   "metadata": {},
   "outputs": [],
   "source": [
    "def get_pagenation(driver):\n",
    "    return int(driver.find_element(by = By.XPATH, value = \"//a[contains(@class, 'ListingPagination__page')][last()]\").get_attribute(\"href\").split(\"page=\")[1])"
   ]
  },
  {
   "cell_type": "markdown",
   "metadata": {},
   "source": [
    "*Извлекаем URL-адреса объявлений об автомобилях с текущей страницы и записываем их в список*"
   ]
  },
  {
   "cell_type": "code",
   "execution_count": null,
   "metadata": {},
   "outputs": [],
   "source": [
    "def get_url_from_page(driver):\n",
    "    array_auto = driver.find_elements(by = By.XPATH, value = \"//a[@class='Link ListingItemTitle__link']\")\n",
    "    array_url_auto = []\n",
    "    for i in range(len(array_auto)):\n",
    "        array_url_auto.append(array_auto[i].get_attribute(\"href\"))\n",
    "    return array_url_auto"
   ]
  },
  {
   "cell_type": "markdown",
   "metadata": {},
   "source": [
    "*Отключаем обнаружение WebDriver, создаём экземпляр веб-драйвера Firefox и запускаем наш парсер*"
   ]
  },
  {
   "cell_type": "code",
   "execution_count": null,
   "metadata": {},
   "outputs": [],
   "source": [
    "options = webdriver.FirefoxOptions()\n",
    "options.set_preference(\"dom.webdriver.enabled\", False)\n",
    "\n",
    "driver = webdriver.Firefox(options=options)\n",
    "\n",
    "driver.close()"
   ]
  }
 ],
 "metadata": {
  "language_info": {
   "name": "python"
  }
 },
 "nbformat": 4,
 "nbformat_minor": 2
}
