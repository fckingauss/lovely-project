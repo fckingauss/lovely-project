{
 "cells": [
  {
   "cell_type": "markdown",
   "metadata": {},
   "source": [
    "## Сбор данных"
   ]
  },
  {
   "cell_type": "markdown",
   "metadata": {},
   "source": [
    "*Подключение библиотек для записи в файл и сбора данных*"
   ]
  },
  {
   "cell_type": "code",
   "execution_count": 100,
   "metadata": {},
   "outputs": [],
   "source": [
    "import csv\n",
    "from selenium import webdriver\n",
    "from selenium.common.exceptions import NoSuchElementException, TimeoutException, InvalidSessionIdException\n",
    "from selenium.webdriver.common.by import By\n",
    "from selenium.webdriver.support.ui import WebDriverWait\n",
    "from selenium.webdriver.support import expected_conditions as EC"
   ]
  },
  {
   "cell_type": "markdown",
   "metadata": {},
   "source": [
    "*Создание документа и заполнение первой строчки (названия столбцов) итогового файла*"
   ]
  },
  {
   "cell_type": "code",
   "execution_count": 101,
   "metadata": {},
   "outputs": [],
   "source": [
    "with open(\"data/auto.csv\", \"a\", newline=\"\", encoding=\"cp1251\") as file:\n",
    "    writer = csv.writer(file, delimiter=\",\")\n",
    "    writer.writerow([\n",
    "        \"model auto\", \"year of production\", \"mileage\", \"exterior colour\", \"tax\",\n",
    "        \"transmission\", \"wheel drive\", \"condition\", \"number of owners\", \"engine volume\",\n",
    "        \"engine power\", \"engine type\", \"fuel type\", \"acceleration\", \"MPG\",\n",
    "        \"country of the car brand\", \"class\", \"top speed\", \"environmental class\", \"price\"\n",
    "    ])"
   ]
  },
  {
   "cell_type": "markdown",
   "metadata": {},
   "source": [
    "*Создание списка с городами, по которым наш парсер будет проходиться*"
   ]
  },
  {
   "cell_type": "code",
   "execution_count": 102,
   "metadata": {},
   "outputs": [],
   "source": [
    "CITIES = [\"moskva\", \"sankt-peterburg\", \"vladimir\"]"
   ]
  },
  {
   "cell_type": "markdown",
   "metadata": {},
   "source": [
    "*Создание словаря, где ключ - это признак, с помощью которого мы будем искать данные на странице, а значение - название столбца, куда будет записываться значение, соответствующее признаку*"
   ]
  },
  {
   "cell_type": "code",
   "execution_count": 103,
   "metadata": {},
   "outputs": [],
   "source": [
    "DICT_CHARACTERISTICS_MAIN = {\n",
    "    \"Год выпуска\": \"year of production\",\n",
    "    \"Пробег\": \"mileage\",\n",
    "    \"Цвет\": \"exterior colour\",\n",
    "    \"Налог\": \"tax\",\n",
    "    \"Коробка\": \"transmission\",\n",
    "    \"Привод\": \"wheel drive\",\n",
    "    \"Состояние\": \"condition\",\n",
    "    \"Владельцы\": \"number of owners\"\n",
    "}\n",
    "\n",
    "DICT_CHARACTERISTICS_OTHER = {\n",
    "    \"Объем\": \"engine volume\",\n",
    "    \"Мощность\": \"engine power\",\n",
    "    \"Тип двигателя\": \"engine type\",\n",
    "    \"Топливо\": \"fuel type\",\n",
    "    \"Разгон\": \"acceleration\",\n",
    "    \"Расход\": \"MPG\",\n",
    "    \"Страна марки\": \"country of the car brand\",\n",
    "    \"Класс автомобиля\": \"class\",\n",
    "    \"Максимальная скорость\": \"top speed\",\n",
    "    \"Экологический класс\": \"environmental class\"\n",
    "}"
   ]
  },
  {
   "cell_type": "markdown",
   "metadata": {},
   "source": [
    "*Объявляем переменную, которая будет означать общее количество страниц, которое нужно спарсить*"
   ]
  },
  {
   "cell_type": "code",
   "execution_count": 104,
   "metadata": {},
   "outputs": [],
   "source": [
    "PAGES = 10"
   ]
  },
  {
   "cell_type": "markdown",
   "metadata": {},
   "source": [
    "*Генерируем URL для страницы с объявлениями об автомобилях по указанному городу и номеру страницы*"
   ]
  },
  {
   "cell_type": "code",
   "execution_count": 105,
   "metadata": {},
   "outputs": [],
   "source": [
    "def get_url(city, page):\n",
    "    return f\"https://auto.ru/{city}/cars/used/?page={page}\""
   ]
  },
  {
   "cell_type": "markdown",
   "metadata": {},
   "source": [
    "*Получаем количество страниц с объявлениями об автомобилях в конкретном городе*"
   ]
  },
  {
   "cell_type": "code",
   "execution_count": 106,
   "metadata": {},
   "outputs": [],
   "source": [
    "def get_pagination(driver):\n",
    "    try:\n",
    "        return int(driver.find_element(By.XPATH, \"//a[contains(@class, 'ListingPagination__page')][last()]\").get_attribute(\"href\").split(\"page=\")[1])\n",
    "    except NoSuchElementException:\n",
    "        return 1"
   ]
  },
  {
   "cell_type": "markdown",
   "metadata": {},
   "source": [
    "*Извлекаем URL-адреса объявлений об автомобилях с текущей страницы и записываем их в список*"
   ]
  },
  {
   "cell_type": "code",
   "execution_count": 107,
   "metadata": {},
   "outputs": [],
   "source": [
    "def get_urls_from_page(driver):\n",
    "    array_auto = driver.find_elements(By.XPATH, \"//a[@class='Link ListingItemTitle__link']\")\n",
    "    return [auto.get_attribute(\"href\") for auto in array_auto]"
   ]
  },
  {
   "cell_type": "markdown",
   "metadata": {},
   "source": [
    "*Проходимся поочерёдно по каждому городу, странице и сохраняем ссылки на объявления, вызываем вспомогательную функцию, которая найдёт все характеристики на странице, и записываем их в файл*"
   ]
  },
  {
   "cell_type": "code",
   "execution_count": 108,
   "metadata": {},
   "outputs": [],
   "source": [
    "def processing_autos(driver, i_pages):\n",
    "    for city in CITIES:\n",
    "        driver.get(get_url(city, 1))\n",
    "        pages = get_pagination(driver)\n",
    "        for page in range(1, pages + 1):\n",
    "            if (i_pages + 1 > PAGES):\n",
    "                return\n",
    "            i_pages += 1\n",
    "            print(f\"Page: {i_pages}\")\n",
    "            array_informations_auto = []\n",
    "            driver.get(get_url(city, page))\n",
    "            array_url_car = get_urls_from_page(driver)\n",
    "            for url in array_url_car:\n",
    "                auto_info = {}\n",
    "                try:\n",
    "                    driver.get(url)\n",
    "                    WebDriverWait(driver, 10).until(EC.presence_of_element_located((By.XPATH, \"//h1[@class='CardHead__title']\")))\n",
    "                    processing_characteristics_auto(driver, auto_info)\n",
    "                except TimeoutException:\n",
    "                    pass\n",
    "                array_informations_auto.append(auto_info)\n",
    "                \n",
    "            with open(\"data/auto.csv\", 'a', newline='', encoding='cp1251') as file:\n",
    "                writer = csv.writer(file, delimiter=',')\n",
    "                for auto in array_informations_auto:\n",
    "                    try:\n",
    "                        writer.writerow([auto.get(column, '') for column in [\n",
    "                            \"model auto\", \"year of production\", \"mileage\", \"exterior colour\", \"tax\", \"transmission\", \n",
    "                            \"wheel drive\", \"condition\", \"number of owners\", \"engine volume\", \"engine power\", \"engine type\", \n",
    "                            \"fuel type\", \"acceleration\", \"MPG\", \"country of the car brand\", \"class\", \"top speed\", \n",
    "                            \"environmental class\", \"price\"\n",
    "                        ]])\n",
    "                    except (KeyError, UnicodeEncodeError):\n",
    "                        pass"
   ]
  },
  {
   "cell_type": "markdown",
   "metadata": {},
   "source": [
    "*Вспомогательная функция*"
   ]
  },
  {
   "cell_type": "code",
   "execution_count": 109,
   "metadata": {},
   "outputs": [],
   "source": [
    "def processing_characteristics_auto(driver, auto_info):\n",
    "    try:\n",
    "        model = driver.find_element(By.XPATH, \"//h1[@class='CardHead__title']\").text\n",
    "        auto_info[\"model auto\"] = model\n",
    "    except NoSuchElementException:\n",
    "        auto_info[\"model auto\"] = \"Unknown\"\n",
    "\n",
    "    try:\n",
    "        price = driver.find_element(By.XPATH, \"//span[@class='OfferPriceCaption__price']\").text.replace('₽', '')\n",
    "        auto_info[\"price\"] = price\n",
    "    except NoSuchElementException:\n",
    "        auto_info[\"price\"] = \"Unknown\"\n",
    "\n",
    "    try:\n",
    "        generation = driver.find_element(By.XPATH, \"//span[contains(text(), 'Характеристики модели')]/../..\")\n",
    "        url = generation.get_attribute(\"href\")\n",
    "    except NoSuchElementException:\n",
    "        url = None\n",
    "\n",
    "    for key, value in DICT_CHARACTERISTICS_MAIN.items():\n",
    "        try:\n",
    "            pair = driver.find_element(By.XPATH, f\"//div[contains(text(), '{key}')]/../div[@class='CardInfoRow__cell']/../div[2]\")\n",
    "            if key == \"Налог\":\n",
    "                auto_info[value] = pair.text.replace('₽', '')\n",
    "            else:\n",
    "                auto_info[value] = pair.text\n",
    "        except NoSuchElementException:\n",
    "            auto_info[value] = \"?\"\n",
    "\n",
    "    if url:\n",
    "        driver.get(url)\n",
    "        for key, value in DICT_CHARACTERISTICS_OTHER.items():\n",
    "            try:\n",
    "                pair = driver.find_element(By.XPATH, f\"//span[contains(text(), '{key}')]/..//span[2]\")\n",
    "                auto_info[value] = pair.text\n",
    "            except NoSuchElementException:\n",
    "                auto_info[value] = \"?\""
   ]
  },
  {
   "cell_type": "markdown",
   "metadata": {},
   "source": [
    "*Отключаем обнаружение WebDriver, создаём экземпляр веб-драйвера Firefox и запускаем наш парсер*"
   ]
  },
  {
   "cell_type": "code",
   "execution_count": 110,
   "metadata": {},
   "outputs": [
    {
     "name": "stdout",
     "output_type": "stream",
     "text": [
      "Page: 1\n",
      "Page: 2\n",
      "Page: 3\n",
      "Page: 4\n",
      "Page: 5\n",
      "Page: 6\n",
      "Page: 7\n",
      "Page: 8\n",
      "Page: 9\n",
      "Page: 10\n"
     ]
    }
   ],
   "source": [
    "options = webdriver.FirefoxOptions()\n",
    "options.set_preference(\"dom.webdriver.enabled\", False)\n",
    "driver = webdriver.Firefox(options=options)\n",
    "\n",
    "i_pages = 0\n",
    "processing_autos(driver, i_pages)\n",
    "\n",
    "driver.quit()"
   ]
  }
 ],
 "metadata": {
  "kernelspec": {
   "display_name": "Python 3",
   "language": "python",
   "name": "python3"
  },
  "language_info": {
   "codemirror_mode": {
    "name": "ipython",
    "version": 3
   },
   "file_extension": ".py",
   "mimetype": "text/x-python",
   "name": "python",
   "nbconvert_exporter": "python",
   "pygments_lexer": "ipython3",
   "version": "3.11.9"
  }
 },
 "nbformat": 4,
 "nbformat_minor": 2
}
